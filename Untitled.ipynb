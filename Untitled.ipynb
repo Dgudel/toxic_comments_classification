{
 "cells": [
  {
   "cell_type": "code",
   "execution_count": 11,
   "id": "3d0f532f",
   "metadata": {},
   "outputs": [
    {
     "name": "stdout",
     "output_type": "stream",
     "text": [
      "[0.11920292 0.26894142 0.5        0.73105858 0.88079708 1.        ]\n"
     ]
    }
   ],
   "source": [
    "import numpy as np\n",
    "\n",
    "def sigmoid(z):\n",
    "    return 1 / (1 + np.exp(-z))\n",
    "\n",
    "# Test\n",
    "z = np.array([-2, -1, 0, 1, 2, 90])\n",
    "print(sigmoid(z))"
   ]
  },
  {
   "cell_type": "code",
   "execution_count": 12,
   "id": "a20b5921",
   "metadata": {},
   "outputs": [
    {
     "data": {
      "text/plain": [
       "1.0"
      ]
     },
     "execution_count": 12,
     "metadata": {},
     "output_type": "execute_result"
    }
   ],
   "source": [
    "sum(softmax(x))"
   ]
  },
  {
   "cell_type": "code",
   "execution_count": 9,
   "id": "1d80269e",
   "metadata": {},
   "outputs": [
    {
     "name": "stdout",
     "output_type": "stream",
     "text": [
      "[1.10893902e-40 3.01440879e-40 8.19401262e-40 2.22736356e-39\n",
      " 6.05460190e-39 1.00000000e+00]\n"
     ]
    }
   ],
   "source": [
    "def softmax(x):\n",
    "    e_x = np.exp(x - np.max(x))  # subtract max for numerical stability\n",
    "    return e_x / e_x.sum(axis=0)\n",
    "\n",
    "# Test\n",
    "x = np.array([-2, -1, 0, 1, 2, 90])\n",
    "print(softmax(x))"
   ]
  },
  {
   "cell_type": "code",
   "execution_count": 10,
   "id": "9742f74d",
   "metadata": {},
   "outputs": [
    {
     "data": {
      "text/plain": [
       "1.0"
      ]
     },
     "execution_count": 10,
     "metadata": {},
     "output_type": "execute_result"
    }
   ],
   "source": [
    "sum(softmax(x))"
   ]
  },
  {
   "cell_type": "code",
   "execution_count": 14,
   "id": "0894b596",
   "metadata": {},
   "outputs": [
    {
     "name": "stdout",
     "output_type": "stream",
     "text": [
      "[[ 58  64]\n",
      " [183 202]]\n"
     ]
    }
   ],
   "source": [
    "import numpy as np\n",
    "\n",
    "A = np.array([[1, 2, 3], \n",
    "              [4, 5, 10]])\n",
    "\n",
    "B = np.array([[7, 8], \n",
    "              [9, 10], \n",
    "              [11, 12]])\n",
    "\n",
    "result = np.dot(A, B)\n",
    "print(result)"
   ]
  },
  {
   "cell_type": "code",
   "execution_count": 15,
   "id": "10d6e26f",
   "metadata": {},
   "outputs": [
    {
     "data": {
      "text/plain": [
       "array([[ 58,  64],\n",
       "       [183, 202]])"
      ]
     },
     "execution_count": 15,
     "metadata": {},
     "output_type": "execute_result"
    }
   ],
   "source": [
    "A@B"
   ]
  },
  {
   "cell_type": "code",
   "execution_count": 22,
   "id": "e0ad6ee9",
   "metadata": {},
   "outputs": [],
   "source": [
    "import numpy as np\n",
    "\n",
    "# Softmax function\n",
    "def softmax(x):\n",
    "    e_x = np.exp(x - np.max(x))\n",
    "    return e_x / e_x.sum(axis=0)\n",
    "\n",
    "# Query, Key, and Value vectors\n",
    "Q = np.array([1, 0, 2, 4])\n",
    "\n",
    "K = np.array([[0, 1, 5, 6], \n",
    "              [1, 0, 6, 3]])\n",
    "\n",
    "\n",
    "V = np.array([[0.5, 2, 5, 4], \n",
    "              [2, 0.5, 3, 2]])\n",
    "\n"
   ]
  },
  {
   "cell_type": "code",
   "execution_count": 23,
   "id": "94ac837e",
   "metadata": {},
   "outputs": [],
   "source": [
    "# Compute attention scores\n",
    "scores = np.dot(Q, K.T)\n",
    "\n"
   ]
  },
  {
   "cell_type": "code",
   "execution_count": 24,
   "id": "53304103",
   "metadata": {},
   "outputs": [
    {
     "data": {
      "text/plain": [
       "array([34, 25])"
      ]
     },
     "execution_count": 24,
     "metadata": {},
     "output_type": "execute_result"
    }
   ],
   "source": [
    "scores"
   ]
  },
  {
   "cell_type": "code",
   "execution_count": null,
   "id": "8cdf52be",
   "metadata": {},
   "outputs": [],
   "source": [
    "# Compute attention weights\n",
    "weights = softmax(scores)\n",
    "\n",
    "# Compute context vector\n",
    "context = np.dot(weights, V)\n",
    "\n",
    "print(\"Scores:\", scores)\n",
    "print(\"Weights:\", weights)\n",
    "print(\"Context Vector:\", context)\n"
   ]
  }
 ],
 "metadata": {
  "kernelspec": {
   "display_name": "Python 3 (ipykernel)",
   "language": "python",
   "name": "python3"
  },
  "language_info": {
   "codemirror_mode": {
    "name": "ipython",
    "version": 3
   },
   "file_extension": ".py",
   "mimetype": "text/x-python",
   "name": "python",
   "nbconvert_exporter": "python",
   "pygments_lexer": "ipython3",
   "version": "3.10.8"
  }
 },
 "nbformat": 4,
 "nbformat_minor": 5
}
